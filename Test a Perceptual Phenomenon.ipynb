{
 "cells": [
  {
   "cell_type": "markdown",
   "metadata": {},
   "source": [
    "# Test a Perceptual Phenomenon"
   ]
  },
  {
   "cell_type": "markdown",
   "metadata": {},
   "source": [
    " Anish Reddy Ravula"
   ]
  },
  {
   "cell_type": "markdown",
   "metadata": {},
   "source": [
    "## Background Information"
   ]
  },
  {
   "cell_type": "markdown",
   "metadata": {},
   "source": [
    "In a Stroop task, participants are presented with a list of words, with each word displayed in a color of ink. The participant’s task is to say out loud the color of the ink in which the word is printed. The task has two conditions: a congruent words condition, and an incongruent words condition. In the congruent words condition, the words being displayed are color words whose names match the colors in which they are printed: for example RED, BLUE. In the incongruent words condition, the words displayed are color words whose names do not match the colors in which they are printed: for example PURPLE, ORANGE. In each case, we measure the time it takes to name the ink colors in equally-sized lists. Each participant will go through and record a time from each condition."
   ]
  },
  {
   "cell_type": "markdown",
   "metadata": {},
   "source": [
    "### Questions For Investigation"
   ]
  },
  {
   "cell_type": "markdown",
   "metadata": {},
   "source": [
    "Q1. What is our independent variable? What is our dependent variable?"
   ]
  },
  {
   "cell_type": "markdown",
   "metadata": {},
   "source": [
    "> __Independent variable__: Incongruent words or Congruent words.<br>\n",
    "> __Dependent variable__: Time taken to name the color of the ink"
   ]
  },
  {
   "cell_type": "markdown",
   "metadata": {},
   "source": [
    "Q2. What is an appropriate set of hypotheses for this task? What kind of statistical test do you expect to perform? Justify your choices."
   ]
  },
  {
   "cell_type": "markdown",
   "metadata": {},
   "source": [
    " ### Appropriate Hypothesis\n",
    ">From the findings of the Stroop Effect it is evident that naming the the ink of congruent words is easy and faster, So our hypothesis must validate this finding.<br>\n",
    "<br>\n",
    "$H_0: \\mu_c = \\mu_i$ <br>\n",
    "$H_A: \\mu_c < \\mu_i$"
   ]
  },
  {
   "cell_type": "markdown",
   "metadata": {},
   "source": [
    "Where,<br>    $\\mu_c$ is population mean from which congruent words test sample is derived.<br>\n",
    " $\\mu_i$ is population mean from which incongruent words test sample is derived.<br>\n",
    " $H_0$ is null hypothesis stating, There is no significant difference in the reaction time of the two tests.<br>\n",
    " $H_A$ is alternate hypothesis stating the difference is less than zero or mean time for congruent words is less than that of incongruent words.\n"
   ]
  },
  {
   "cell_type": "markdown",
   "metadata": {},
   "source": [
    "### Statistical Test\n",
    ">  The null hypothesis is the mean of two sets observations is zero, as in the two sets of observations each subject is measured twice ,resulting in pairs of observations, it is important to use lowered tailed dependent sample t-test (paired sample t-test).  <br>\n",
    "<br>\n",
    "\n",
    "\n",
    "\n"
   ]
  },
  {
   "cell_type": "markdown",
   "metadata": {},
   "source": [
    "### Reasons\n",
    "> ##### t-test\n",
    "As the population parameters are unknown and the sample is less than 30, which makes Z-test inappropriate. As the sample is from same population in different conditions, t-test is the appropriate test."
   ]
  },
  {
   "cell_type": "markdown",
   "metadata": {},
   "source": [
    "> #### Lower Tailed test\n",
    "> As the mean time taken for recognizing incongruent colored words will never be greater than the mean time taken for recognizing corgruently colored words use of lower tailed test to to analyze the impact of ink color on recognition times.\n",
    "\n"
   ]
  },
  {
   "cell_type": "code",
   "execution_count": null,
   "metadata": {
    "collapsed": true
   },
   "outputs": [],
   "source": []
  }
 ],
 "metadata": {
  "anaconda-cloud": {},
  "kernelspec": {
   "display_name": "Python [conda root]",
   "language": "python",
   "name": "conda-root-py"
  },
  "language_info": {
   "codemirror_mode": {
    "name": "ipython",
    "version": 3
   },
   "file_extension": ".py",
   "mimetype": "text/x-python",
   "name": "python",
   "nbconvert_exporter": "python",
   "pygments_lexer": "ipython3",
   "version": "3.5.2"
  }
 },
 "nbformat": 4,
 "nbformat_minor": 1
}
