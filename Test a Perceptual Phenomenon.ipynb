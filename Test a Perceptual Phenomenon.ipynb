{
 "cells": [
  {
   "cell_type": "markdown",
   "metadata": {},
   "source": [
    "# Test a Perceptual Phenomenon"
   ]
  },
  {
   "cell_type": "markdown",
   "metadata": {},
   "source": [
    " Anish Reddy Ravula"
   ]
  },
  {
   "cell_type": "markdown",
   "metadata": {},
   "source": [
    "## Background Information"
   ]
  },
  {
   "cell_type": "markdown",
   "metadata": {},
   "source": [
    "In a Stroop task, participants are presented with a list of words, with each word displayed in a color of ink. The participant’s task is to say out loud the color of the ink in which the word is printed. The task has two conditions: a congruent words condition, and an incongruent words condition. In the congruent words condition, the words being displayed are color words whose names match the colors in which they are printed: for example RED, BLUE. In the incongruent words condition, the words displayed are color words whose names do not match the colors in which they are printed: for example PURPLE, ORANGE. In each case, we measure the time it takes to name the ink colors in equally-sized lists. Each participant will go through and record a time from each condition."
   ]
  },
  {
   "cell_type": "markdown",
   "metadata": {},
   "source": [
    "<hr>"
   ]
  },
  {
   "cell_type": "markdown",
   "metadata": {},
   "source": [
    "### Questions For Investigation"
   ]
  },
  {
   "cell_type": "markdown",
   "metadata": {},
   "source": [
    "Q1. What is our independent variable? What is our dependent variable?"
   ]
  },
  {
   "cell_type": "markdown",
   "metadata": {},
   "source": [
    "> __Independent variable__: Incongruent words or Congruent words.<br>\n",
    "> __Dependent variable__: Time taken to name the color of the ink"
   ]
  },
  {
   "cell_type": "markdown",
   "metadata": {},
   "source": [
    "<hr>"
   ]
  },
  {
   "cell_type": "markdown",
   "metadata": {},
   "source": [
    "Q2. What is an appropriate set of hypotheses for this task? What kind of statistical test do you expect to perform? Justify your choices."
   ]
  },
  {
   "cell_type": "markdown",
   "metadata": {},
   "source": [
    " ### Appropriate Hypothesis\n",
    ">From the findings of the Stroop Effect it is evident that naming the the ink of congruent words is easy and faster, So our hypothesis must validate this finding.<br>\n",
    "<br>\n",
    "$H_0: \\mu_c = \\mu_i$ <br>\n",
    "$H_A: \\mu_c < \\mu_i$"
   ]
  },
  {
   "cell_type": "markdown",
   "metadata": {},
   "source": [
    "Where,<br>    $\\mu_c$ is population mean from which congruent words test sample is derived.<br>\n",
    " $\\mu_i$ is population mean from which incongruent words test sample is derived.<br>\n",
    " $H_0$ is null hypothesis stating, There is no significant difference in the reaction time of the two tests.<br>\n",
    " $H_A$ is alternate hypothesis stating the difference is less than zero or mean time for congruent words is less than that of incongruent words.\n"
   ]
  },
  {
   "cell_type": "markdown",
   "metadata": {},
   "source": [
    "### Statistical Test\n",
    ">  The null hypothesis is the mean of two sets observations is zero, as in the two sets of observations each subject is measured twice ,resulting in pairs of observations, it is important to use lowered tailed dependent sample t-test (paired sample t-test).  <br>\n",
    "<br>\n",
    "\n",
    "\n",
    "\n"
   ]
  },
  {
   "cell_type": "markdown",
   "metadata": {},
   "source": [
    "### Reasons\n",
    "> ##### t-test\n",
    "As the population parameters are unknown and the sample is less than 30, which makes Z-test inappropriate. As the sample is from same population in different conditions, t-test is the appropriate test."
   ]
  },
  {
   "cell_type": "markdown",
   "metadata": {},
   "source": [
    "> #### Lower Tailed test\n",
    "> As the mean time taken for recognizing incongruent colored words will never be greater than the mean time taken for recognizing corgruently colored words use of lower tailed test to to analyze the impact of ink color on recognition times.\n",
    "\n"
   ]
  },
  {
   "cell_type": "markdown",
   "metadata": {},
   "source": [
    "<hr>"
   ]
  },
  {
   "cell_type": "markdown",
   "metadata": {},
   "source": [
    "Q3. Report some descriptive statistics regarding this dataset. Include at least one measure of central tendency and at least one measure of variability."
   ]
  },
  {
   "cell_type": "code",
   "execution_count": 180,
   "metadata": {
    "collapsed": false
   },
   "outputs": [],
   "source": [
    "# imports\n",
    "import csv\n",
    "import matplotlib.pyplot as plt\n",
    "from IPython.display import HTML, display\n",
    "import numpy\n",
    "\n",
    "#opening the dataset\n",
    "filename = \"stroopdata.csv\"\n",
    "with open(filename, 'r') as s_data:\n",
    "    \n",
    "    #initialize the variable for congruent data and incogruent data\n",
    "    cong_data = []\n",
    "    inco_data = []\n",
    "    diff_data = []\n",
    "    \n",
    "    #append values into congruent and incongruent data varibale\n",
    "    for row in s_data:\n",
    "        \n",
    "        #split the row so that we get that row's congruent and incogruent data seperately\n",
    "        #replace the line break charachter\n",
    "        temp1 = row.split(\",\")[0].replace(\"\\n\",\"\")\n",
    "        \n",
    "        #do not append if the row contains header\n",
    "        if 'congruent' not in temp1.lower() :\n",
    "            cong_data.append( float(temp1) )\n",
    "            temp2 = row.split(\",\")[1].replace(\"\\n\",\"\")\n",
    "            inco_data.append( float(temp2) )\n",
    "            diff_data.append(float(temp1)-float(temp2))\n",
    "        else:\n",
    "            continue\n",
    "\n"
   ]
  },
  {
   "cell_type": "code",
   "execution_count": 181,
   "metadata": {
    "collapsed": true
   },
   "outputs": [],
   "source": [
    "def mean_m(data):\n",
    "    \"\"\" \n",
    "    To compute mean of the given list and return mean upto two decimal places\n",
    "    \n",
    "    \"\"\"\n",
    "    mean = 0\n",
    "    for value in data:\n",
    "        mean += value\n",
    "    mean = mean/len(data)\n",
    "    mean = round(mean, 3)\n",
    "    return mean"
   ]
  },
  {
   "cell_type": "code",
   "execution_count": 182,
   "metadata": {
    "collapsed": false
   },
   "outputs": [],
   "source": [
    "def variance_m(data, mean):\n",
    "    \"\"\"\n",
    "    To compute variance from the data and mean\n",
    "    \"\"\"\n",
    "    variance = 0\n",
    "    for value in data:\n",
    "        variance += ((mean - value) ** 2)\n",
    "    variance = variance/(len(data) -1)\n",
    "    variance = round(variance, 3)\n",
    "    return variance"
   ]
  },
  {
   "cell_type": "code",
   "execution_count": 183,
   "metadata": {
    "collapsed": false
   },
   "outputs": [],
   "source": [
    "def standard_dev(variance):\n",
    "    \"\"\"\n",
    "    To compute standard deviation when variance is passed\n",
    "    \"\"\"\n",
    "    std_dev = (variance) ** 0.5\n",
    "    return round(std_dev, 3)\n"
   ]
  },
  {
   "cell_type": "code",
   "execution_count": 184,
   "metadata": {
    "collapsed": false
   },
   "outputs": [
    {
     "data": {
      "text/html": [
       "<table><th></th><th>Congruent</th><th>Incongruent</th><th>Difference</th><tr><td>Mean $\\mu$</td><td>14.051</td><td>22.016</td><td>-7.965</td></tr><tr><td>Median $M$</td><td>14.3565</td><td>21.0175</td><td>-7.6665</tr><tr><td>Variance $\\sigma^2$</td><td>12.669</td><td>23.012</td><td>23.667</td></tr><tr><td>Standard Deviation $\\sigma$</td><td>3.559</td><td>4.797</td><td>4.865</td></tr><tr><td>Standard Error $SE$</td><td>0.726</td><td>0.979</td><td>0.993</td></tr><tr><td>Degrees of freedom $d$</td><td>23</td><td>23</td><td>23</td></tr></table>"
      ],
      "text/plain": [
       "<IPython.core.display.HTML object>"
      ]
     },
     "metadata": {},
     "output_type": "display_data"
    }
   ],
   "source": [
    "mean_cong = mean_m(cong_data)\n",
    "mean_inco = mean_m(inco_data)\n",
    "mean_diff = mean_m(diff_data)\n",
    "median_cong = numpy.median(cong_data)\n",
    "median_inco = numpy.median(inco_data)\n",
    "median_diff = numpy.median(diff_data)\n",
    "variance_cong = variance_m(cong_data, mean_cong)\n",
    "variance_inco = variance_m(inco_data, mean_inco)\n",
    "variance_diff = variance_m(diff_data, mean_diff)\n",
    "std_dev_cong = standard_dev(variance_cong)\n",
    "std_dev_inco = standard_dev(variance_inco)\n",
    "std_dev_diff = standard_dev(variance_diff)\n",
    "standard_err_cong = round(std_dev_cong/( len(cong_data) ** 0.5), 3)\n",
    "standard_err_inco = round(std_dev_inco/( len(inco_data) ** 0.5 ), 3)\n",
    "standard_err_diff = round(std_dev_diff/( len(diff_data) ** 0.5 ), 3)\n",
    "display(HTML(\"<table><th></th><th>Congruent</th><th>Incongruent</th><th>Difference</th><tr><td>Mean $\\mu$</td><td>\"+str(mean_cong)+\"</td><td>\"+str(mean_inco)+\"</td><td>\"+str(mean_diff)+\"</td></tr><tr><td>Median $M$</td><td>\"+str(median_cong)+\"</td><td>\"+str(median_inco)+\"</td><td>\"+str(median_diff)+\"</tr><tr><td>Variance $\\sigma^2$</td><td>\"+str(variance_cong)+\"</td><td>\"+str(variance_inco)+\"</td><td>\"+str(variance_diff)+\"</td></tr><tr><td>Standard Deviation $\\sigma$</td><td>\"+str(std_dev_cong)+\"</td><td>\"+str(std_dev_inco)+\"</td><td>\"+str(std_dev_diff)+\"</td></tr><tr><td>Standard Error $SE$</td><td>\"+str(standard_err_cong)+\"</td><td>\"+str(standard_err_inco)+\"</td><td>\"+str(standard_err_diff)+\"</td></tr><tr><td>Degrees of freedom $d$</td><td>23</td><td>23</td><td>23</td></tr></table>\"))"
   ]
  },
  {
   "cell_type": "markdown",
   "metadata": {},
   "source": [
    "<hr>"
   ]
  },
  {
   "cell_type": "markdown",
   "metadata": {},
   "source": [
    "Q4. Provide one or two visualizations that show the distribution of the sample data. Write one or two sentences noting what you observe about the plot or plots."
   ]
  },
  {
   "cell_type": "code",
   "execution_count": 185,
   "metadata": {
    "collapsed": false
   },
   "outputs": [
    {
     "data": {
      "image/png": "[encoded data removed]",
      "text/plain": [
       "<matplotlib.figure.Figure at 0x12606b62048>"
      ]
     },
     "metadata": {},
     "output_type": "display_data"
    }
   ],
   "source": [
    "%matplotlib inline \n",
    "plt.hist(cong_data, bins=6, alpha=0.5, label=\"congruent words\")\n",
    "# plt.show()\n",
    "plt.hist(inco_data, bins=6, alpha=0.5, label=\"incongruent words\")\n",
    "plt.legend(loc='upper right')\n",
    "plt.show()"
   ]
  },
  {
   "cell_type": "markdown",
   "metadata": {},
   "source": [
    "### Observation\n",
    ">It can be observed that mean and median for both the set of observations are significantly different and outliers can be observed in the incongruent words observations."
   ]
  },
  {
   "cell_type": "markdown",
   "metadata": {},
   "source": [
    "<hr>"
   ]
  },
  {
   "cell_type": "markdown",
   "metadata": {},
   "source": [
    "Q5. Now, perform the statistical test and report your results. What is your confidence level and your critical statistic value? Do you reject the null hypothesis or fail to reject it? Come to a conclusion in terms of the experiment task. Did the results match up with your expectations?\n",
    "### Results"
   ]
  },
  {
   "cell_type": "code",
   "execution_count": 186,
   "metadata": {
    "collapsed": true
   },
   "outputs": [],
   "source": [
    "def tstat(mean, std_err):\n",
    "    t_stat = mean/( (std_err ) ** 0.5)\n",
    "    return t_stat"
   ]
  },
  {
   "cell_type": "code",
   "execution_count": 187,
   "metadata": {
    "collapsed": false,
    "scrolled": true
   },
   "outputs": [
    {
     "data": {
      "text/html": [
       "$t_{stat} =  -7.993$"
      ],
      "text/plain": [
       "<IPython.core.display.HTML object>"
      ]
     },
     "metadata": {},
     "output_type": "display_data"
    }
   ],
   "source": [
    "display(HTML( \"$t_{stat} =  \"+str(round(tstat(mean_diff, standard_err_diff), 3))+\"$\"))"
   ]
  },
  {
   "cell_type": "markdown",
   "metadata": {},
   "source": [
    "$t_{crit} = -1.714$<br>\n",
    "$\\alpha = 0.05$<br>\n",
    "$p-value < 0.001$<br>\n",
    "$confidence = 95\\%$\n",
    "#### Conclusion\n",
    ">Since p-value is much less than, 0.001 for one tailed test, hence we reject null hypothese $H_o$<br>\n",
    "Therefor at $\\alpha = 0.05$ level of significance we can claim that it takes less time to recognize cogruent words than incongruent words."
   ]
  },
  {
   "cell_type": "markdown",
   "metadata": {},
   "source": [
    "Q6.  Optional: What do you think is responsible for the effects observed? Can you think of an alternative or similar task that would result in a similar effect? Some research about the problem will be helpful for thinking about these two questions!"
   ]
  },
  {
   "cell_type": "markdown",
   "metadata": {},
   "source": [
    "### Resposible"
   ]
  },
  {
   "cell_type": "markdown",
   "metadata": {},
   "source": [
    "> Given that our eyes sees first then our brain analyses stuff we see, we first see the color as color of the ink and then read the text, people will take less time to just recognize the ink color and map to the color rather than looking at a ink color and reading a word supressing the ink color we just saw is causing for increase in time to recognize incongruent words."
   ]
  },
  {
   "cell_type": "markdown",
   "metadata": {},
   "source": [
    "### Similar Effect"
   ]
  },
  {
   "cell_type": "markdown",
   "metadata": {},
   "source": [
    ">>Similar effect can be observed with color-text and pictures for seasons, ie., when a season is corresponded with a color text (eg. green for spring) and when a season is corresponded with a picture (eg. flower for spring) similar effect is observed. As unlike pictures, colors do not have information, we have to process the color for a respective season."
   ]
  },
  {
   "cell_type": "markdown",
   "metadata": {},
   "source": [
    "## References"
   ]
  },
  {
   "cell_type": "markdown",
   "metadata": {},
   "source": [
    "<a href=\"https://en.wikipedia.org/wiki/Stroop_effect\">Stroop Effect</a>  <br>\n",
    "<a href=\"http://www.statisticssolutions.com/manova-analysis-paired-sample-t-test/\">Paired sample t-test</a> <br>\n",
    "<a href=\"https://statistics.laerd.com/statistical-guides/dependent-t-test-statistical-guide.php\">Dependent t-test statistical guide</a> <br>\n",
    "<a href=\"https://onlinecourses.science.psu.edu/stat500/node/51\">Statistics Reference</a> <br>\n",
    "<a href=\"https://www.graphpad.com/quickcalcs\">Graph pad</a> <br>\n",
    "<a href=\"https://www.ncbi.nlm.nih.gov/pubmed/8090863\">Stroop effects like</a><br>\n",
    "<a href=\"http://data-blog.udacity.com/posts/2016/10/latex-primer/\">Latex guide</a><br>"
   ]
  }
 ],
 "metadata": {
  "anaconda-cloud": {},
  "kernelspec": {
   "display_name": "Python [conda root]",
   "language": "python",
   "name": "conda-root-py"
  },
  "language_info": {
   "codemirror_mode": {
    "name": "ipython",
    "version": 3
   },
   "file_extension": ".py",
   "mimetype": "text/x-python",
   "name": "python",
   "nbconvert_exporter": "python",
   "pygments_lexer": "ipython3",
   "version": "3.5.2"
  }
 },
 "nbformat": 4,
 "nbformat_minor": 1
}
